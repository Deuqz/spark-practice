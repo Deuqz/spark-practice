{
 "cells": [
  {
   "cell_type": "code",
   "execution_count": 1,
   "id": "ab1d0266-5bb4-4994-b9d8-0c7a59c5a370",
   "metadata": {},
   "outputs": [],
   "source": [
    "import pyspark"
   ]
  },
  {
   "cell_type": "code",
   "execution_count": 2,
   "id": "264d6a45-a166-4eed-bb73-54bf68f5300b",
   "metadata": {},
   "outputs": [],
   "source": [
    "from pyspark import SparkContext, SparkConf"
   ]
  },
  {
   "cell_type": "code",
   "execution_count": 3,
   "id": "32cf5126-6f1c-47cc-95b3-1a3030506c76",
   "metadata": {},
   "outputs": [
    {
     "name": "stdout",
     "output_type": "stream",
     "text": [
      "Safe mode is OFF\n"
     ]
    }
   ],
   "source": [
    "!hdfs dfsadmin -safemode leave"
   ]
  },
  {
   "cell_type": "code",
   "execution_count": 4,
   "id": "8ce5f466-6327-4e96-a248-5ebd9b606329",
   "metadata": {},
   "outputs": [],
   "source": [
    "conf = SparkConf().set(\"spark.executor.instances\", \"2\").set(\"spark.executor.cores\", \"1\").set(\"spark.executor.memory\", \"1g\")"
   ]
  },
  {
   "cell_type": "code",
   "execution_count": 5,
   "id": "ef02fa3d-7329-4cf1-8116-feadbe2056a9",
   "metadata": {},
   "outputs": [
    {
     "name": "stderr",
     "output_type": "stream",
     "text": [
      "Setting default log level to \"WARN\".\n",
      "To adjust logging level use sc.setLogLevel(newLevel). For SparkR, use setLogLevel(newLevel).\n",
      "23/12/15 00:07:03 WARN Client: Neither spark.yarn.jars nor spark.yarn.archive is set, falling back to uploading libraries under SPARK_HOME.\n"
     ]
    }
   ],
   "source": [
    "sc = SparkContext(appName=\"shestakov_spark\", master=\"yarn\")"
   ]
  },
  {
   "cell_type": "code",
   "execution_count": null,
   "id": "d1f43fd6-eacb-4908-abfa-1a21b38d060b",
   "metadata": {},
   "outputs": [],
   "source": []
  }
 ],
 "metadata": {
  "kernelspec": {
   "display_name": "Python 3 (ipykernel)",
   "language": "python",
   "name": "python3"
  },
  "language_info": {
   "codemirror_mode": {
    "name": "ipython",
    "version": 3
   },
   "file_extension": ".py",
   "mimetype": "text/x-python",
   "name": "python",
   "nbconvert_exporter": "python",
   "pygments_lexer": "ipython3",
   "version": "3.10.12"
  }
 },
 "nbformat": 4,
 "nbformat_minor": 5
}
